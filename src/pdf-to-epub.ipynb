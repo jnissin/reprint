{
 "cells": [
  {
   "cell_type": "markdown",
   "metadata": {},
   "source": [
    "# PDF to EPUB Conversion\n",
    "\n",
    "This is a simple demo of the `reprint` module that converts a PDF to an EPUB file."
   ]
  },
  {
   "cell_type": "code",
   "execution_count": 1,
   "metadata": {},
   "outputs": [
    {
     "name": "stdout",
     "output_type": "stream",
     "text": [
      "Creating Document Intelligence client ...\n",
      "Analyzing document ...\n",
      "Creating EPUB ...\n",
      "Saving EPUB ...\n",
      "EPUB created successfully to: ../data/sample.epub\n"
     ]
    }
   ],
   "source": [
    "import os\n",
    "\n",
    "from dotenv import load_dotenv\n",
    "\n",
    "from reprint.azure.client import create_document_intelligence_client, analyze_document\n",
    "from reprint.epub.builder import create_epub, save_epub\n",
    "\n",
    "\n",
    "load_dotenv(\"/workspace/.env\")\n",
    "\n",
    "# Azure Document AI setup\n",
    "azure_di_endpoint = os.environ[\"AZURE_DI_ENDPOINT\"]\n",
    "azure_di_key = os.environ[\"AZURE_DI_KEY\"]\n",
    "\n",
    "print(\"Creating Document Intelligence client ...\")\n",
    "client = create_document_intelligence_client(azure_di_endpoint, azure_di_key)\n",
    "\n",
    "# Convert PDF to EPUB\n",
    "pdf_file_path = \"../samples/sample.pdf\"\n",
    "output_file_path = \"../samples/sample.epub\"\n",
    "\n",
    "print(\"Analyzing document ...\")\n",
    "result = analyze_document(pdf_file_path, client)\n",
    "\n",
    "print(\"Creating EPUB ...\")\n",
    "book = create_epub(pdf_file_path, result)\n",
    "\n",
    "print(\"Saving EPUB ...\")\n",
    "save_epub(output_file_path, book)\n",
    "\n",
    "print(f\"EPUB created successfully to: {output_file_path}\")\n"
   ]
  }
 ],
 "metadata": {
  "kernelspec": {
   "display_name": "Python 3",
   "language": "python",
   "name": "python3"
  },
  "language_info": {
   "codemirror_mode": {
    "name": "ipython",
    "version": 3
   },
   "file_extension": ".py",
   "mimetype": "text/x-python",
   "name": "python",
   "nbconvert_exporter": "python",
   "pygments_lexer": "ipython3",
   "version": "3.11.10"
  }
 },
 "nbformat": 4,
 "nbformat_minor": 2
}
